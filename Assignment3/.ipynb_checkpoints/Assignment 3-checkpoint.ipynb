{
 "cells": [
  {
   "cell_type": "markdown",
   "id": "03efbbfd-b097-4ffd-89dd-272caedcd83a",
   "metadata": {},
   "source": [
    "# Assignment 3.3"
   ]
  },
  {
   "cell_type": "markdown",
   "id": "b9508f86-775a-4791-abac-ba9521391c3b",
   "metadata": {},
   "source": [
    "Group: Mathias Husted, Luciana Amarante, Leonie Kochs\n",
    "\n",
    "We'll start by importing our functions from last time."
   ]
  },
  {
   "cell_type": "code",
   "execution_count": 4,
   "id": "ebb8b506-d568-4b0e-85f8-f0afa8d34d12",
   "metadata": {},
   "outputs": [],
   "source": [
    "import numpy as np\n",
    "import matplotlib.pyplot as plt\n",
    "\n",
    "def lagrange(x, nodes, k):\n",
    "    f = 1 # Neutral element for multiplication\n",
    "    for i in range(0, len(nodes)):\n",
    "        if i != k:\n",
    "            f *= (x-nodes[i]) / (nodes[k] - nodes[i])\n",
    "    return f\n",
    "\n",
    "def lagrange_interpolation(x, nodes, function_values):\n",
    "    if len(nodes) != len(function_values):\n",
    "        raise(\"Error: Nodes list must be as long as function_values\")\n",
    "    f = 0 # Neutral element for addition\n",
    "    for i in range(0, len(nodes)):\n",
    "        f += function_values[i] * lagrange(x, nodes, i)\n",
    "    return f"
   ]
  },
  {
   "cell_type": "markdown",
   "id": "83acf0c4-d93e-4414-89fe-404a4cd2e93c",
   "metadata": {},
   "source": [
    "For this assignment, we'll be numerically measuring the approximation error by using a discrete version of the Chebyshev distance (maximum metric). The interval given is $[a,b] = [-5,5]$\n",
    "\n",
    "$$\n",
    "||f||_h := \\max\\limits_{i \\in \\{0,...,1000\\}} \\Bigg | f \\Bigg (a+\\frac{i(b-a)}{1000} \\Bigg ) \\Bigg |\n",
    "$$\n",
    "\n",
    "Furthermore, we'll use the equidistant nodes\n",
    "\n",
    "$$\n",
    "x_i = a + \\frac{i(b-a)}{n}, \\text{ for } i \\in {0,...,n}\n",
    "$$\n",
    "\n",
    "### a)\n",
    "### i)\n",
    "$$\n",
    "f(x) := sin(x)\n",
    "$$\n",
    "\n",
    "We'll analyze the approximation error $||f-p_n||_h$ for $n \\rightarrow \\infty$ using $n \\in \\{1,...,100\\}$\n",
    "\n",
    "First, let's create our discrete Chebyshev distance function"
   ]
  },
  {
   "cell_type": "code",
   "execution_count": 167,
   "id": "1a4a39f7-3048-4155-bcd0-4b7f111d5863",
   "metadata": {},
   "outputs": [],
   "source": [
    "# Interval\n",
    "a,b = -5,5\n",
    "\n",
    "def sin(x):\n",
    "    return np.sin(x)\n",
    "\n",
    "def generate_interval(n):\n",
    "    interval = []\n",
    "    for i in range(n):\n",
    "        point = a + (i * (b - a) / n)\n",
    "        interval.append(point)\n",
    "    return np.array(interval)\n",
    "\n",
    "# Returns ||f - p_n||_h\n",
    "def chebyshev(a, b, func, x_nodes):\n",
    "    \n",
    "    y_nodes = func(x_nodes)\n",
    "\n",
    "    interval = generate_interval(1000)\n",
    "\n",
    "    interval_y = func(interval)\n",
    "    return np.max(np.abs(interval_y - lagrange_interpolation(interval, x_nodes, y_nodes)))"
   ]
  },
  {
   "cell_type": "markdown",
   "id": "67bac5f9-3653-40de-b547-e2f0adbb0e52",
   "metadata": {},
   "source": [
    "Then, our n will run from 1 to 100 and approximate the error in each cycle according to our custom Chebyshev distance function."
   ]
  },
  {
   "cell_type": "code",
   "execution_count": 168,
   "id": "b0fdf207-0301-4a33-8846-cf62adc7a35f",
   "metadata": {},
   "outputs": [],
   "source": [
    "def run_ns(func):\n",
    "    for n in range(1,101):\n",
    "        x_nodes = [None] * (n)\n",
    "        x_nodes = generate_interval(n)\n",
    "        max = chebyshev(a, b, sin, x_nodes)\n",
    "\n",
    "run_ns(sin)"
   ]
  },
  {
   "cell_type": "markdown",
   "id": "c7bcbcee-3dbb-4474-8666-ddeed53914a3",
   "metadata": {},
   "source": [
    "\n",
    "\n",
    "### b)\n",
    "\n",
    "Now we'll do the exact same thing, but with the function\n",
    "\n",
    "$$\n",
    "f(x)=(1+x^2)^{-1}\n",
    "$$"
   ]
  }
 ],
 "metadata": {
  "kernelspec": {
   "display_name": "Python 3 (ipykernel)",
   "language": "python",
   "name": "python3"
  },
  "language_info": {
   "codemirror_mode": {
    "name": "ipython",
    "version": 3
   },
   "file_extension": ".py",
   "mimetype": "text/x-python",
   "name": "python",
   "nbconvert_exporter": "python",
   "pygments_lexer": "ipython3",
   "version": "3.12.2"
  }
 },
 "nbformat": 4,
 "nbformat_minor": 5
}
